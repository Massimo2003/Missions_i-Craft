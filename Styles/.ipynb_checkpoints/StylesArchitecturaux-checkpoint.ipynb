{
 "cells": [
  {
   "cell_type": "markdown",
   "id": "7f03ed75",
   "metadata": {},
   "source": [
    "**IMPORTS**"
   ]
  },
  {
   "cell_type": "code",
   "execution_count": 17,
   "id": "96648c37",
   "metadata": {},
   "outputs": [],
   "source": [
    "import os\n",
    "import keras\n",
    "from keras.preprocessing import image\n",
    "from keras.applications.imagenet_utils import decode_predictions, preprocess_input\n",
    "from keras.models import Model\n",
    "\n",
    "from DeepImageSearch import LoadData"
   ]
  },
  {
   "cell_type": "markdown",
   "id": "50615fa8",
   "metadata": {},
   "source": [
    "**LOAD DATA**"
   ]
  },
  {
   "cell_type": "code",
   "execution_count": 18,
   "id": "d688b8a4",
   "metadata": {},
   "outputs": [],
   "source": [
    "ImagesData = LoadData().from_folder([\"DataStylesArchitecturaux\"])"
   ]
  },
  {
   "cell_type": "markdown",
   "id": "e91670eb",
   "metadata": {},
   "source": [
    "**VGG16 PREVIOUSLY TRAINED NETWORK**"
   ]
  },
  {
   "cell_type": "code",
   "execution_count": 19,
   "id": "44a9488f",
   "metadata": {},
   "outputs": [],
   "source": [
    "model = keras.applications.VGG16(weights='imagenet', include_top=True)"
   ]
  }
 ],
 "metadata": {
  "kernelspec": {
   "display_name": "Python 3 (ipykernel)",
   "language": "python",
   "name": "python3"
  },
  "language_info": {
   "codemirror_mode": {
    "name": "ipython",
    "version": 3
   },
   "file_extension": ".py",
   "mimetype": "text/x-python",
   "name": "python",
   "nbconvert_exporter": "python",
   "pygments_lexer": "ipython3",
   "version": "3.9.12"
  }
 },
 "nbformat": 4,
 "nbformat_minor": 5
}
