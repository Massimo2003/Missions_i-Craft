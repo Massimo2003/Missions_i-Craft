{
 "cells": [
  {
   "cell_type": "code",
   "execution_count": 14,
   "id": "1745a453",
   "metadata": {},
   "outputs": [
    {
     "data": {
      "text/plain": [
       "['DataStylesArchitecturaux\\\\Corinthien.jpg',\n",
       " 'DataStylesArchitecturaux\\\\Dorique.jpg',\n",
       " 'DataStylesArchitecturaux\\\\DoriqueTest.jpg',\n",
       " 'DataStylesArchitecturaux\\\\Ionique.jpg']"
      ]
     },
     "execution_count": 14,
     "metadata": {},
     "output_type": "execute_result"
    }
   ],
   "source": [
    "from DeepImageSearch import Index, LoadData, SearchImage\n",
    "\n",
    "def loadData(path):\n",
    "    return LoadData().from_folder([path])\n",
    "\n",
    "ImagesData = loadData(\"DataStylesArchitecturaux\")\n",
    "ImagesData[:]"
   ]
  },
  {
   "cell_type": "code",
   "execution_count": 15,
   "id": "52457051",
   "metadata": {},
   "outputs": [],
   "source": [
    "\n",
    "def indexImages(data):\n",
    "    Index(data).Start()\n",
    "    \n",
    "# indexImages(ImagesData)"
   ]
  },
  {
   "cell_type": "code",
   "execution_count": 27,
   "id": "7840ccce",
   "metadata": {},
   "outputs": [
    {
     "name": "stdout",
     "output_type": "stream",
     "text": [
      "1/1 [==============================] - 0s 213ms/step\n",
      "{2: 'DataStylesArchitecturaux\\\\Ionique.jpg'}\n"
     ]
    }
   ],
   "source": [
    "def similarImage(imgToComp, nbImages):\n",
    "    return SearchImage().get_similar_images(image_path = imgToComp, number_of_images = nbImages)\n",
    "    \n",
    "print(similarImage(ImagesData[2], 1))"
   ]
  },
  {
   "cell_type": "code",
   "execution_count": 18,
   "id": "0875b736",
   "metadata": {},
   "outputs": [
    {
     "ename": "TypeError",
     "evalue": "plot_similar_images() got an unexpected keyword argument 'number_of_images'",
     "output_type": "error",
     "traceback": [
      "\u001b[1;31m---------------------------------------------------------------------------\u001b[0m",
      "\u001b[1;31mTypeError\u001b[0m                                 Traceback (most recent call last)",
      "\u001b[1;32m~\\AppData\\Local\\Temp\\ipykernel_11460\\778984334.py\u001b[0m in \u001b[0;36m<cell line: 4>\u001b[1;34m()\u001b[0m\n\u001b[0;32m      2\u001b[0m     \u001b[0mSearchImage\u001b[0m\u001b[1;33m(\u001b[0m\u001b[1;33m)\u001b[0m\u001b[1;33m.\u001b[0m\u001b[0mplot_similar_images\u001b[0m\u001b[1;33m(\u001b[0m\u001b[0mimage_path\u001b[0m \u001b[1;33m=\u001b[0m \u001b[0mimgToComp\u001b[0m\u001b[1;33m,\u001b[0m \u001b[0mnumber_of_images\u001b[0m \u001b[1;33m=\u001b[0m \u001b[0mnbImages\u001b[0m\u001b[1;33m)\u001b[0m\u001b[1;33m\u001b[0m\u001b[1;33m\u001b[0m\u001b[0m\n\u001b[0;32m      3\u001b[0m \u001b[1;33m\u001b[0m\u001b[0m\n\u001b[1;32m----> 4\u001b[1;33m \u001b[0mplotSimilarImages\u001b[0m\u001b[1;33m(\u001b[0m\u001b[0mImagesData\u001b[0m\u001b[1;33m[\u001b[0m\u001b[1;36m3\u001b[0m\u001b[1;33m]\u001b[0m\u001b[1;33m,\u001b[0m \u001b[1;36m1\u001b[0m\u001b[1;33m)\u001b[0m\u001b[1;33m\u001b[0m\u001b[1;33m\u001b[0m\u001b[0m\n\u001b[0m",
      "\u001b[1;32m~\\AppData\\Local\\Temp\\ipykernel_11460\\778984334.py\u001b[0m in \u001b[0;36mplotSimilarImages\u001b[1;34m(imgToComp, nbImages)\u001b[0m\n\u001b[0;32m      1\u001b[0m \u001b[1;32mdef\u001b[0m \u001b[0mplotSimilarImages\u001b[0m\u001b[1;33m(\u001b[0m\u001b[0mimgToComp\u001b[0m\u001b[1;33m,\u001b[0m \u001b[0mnbImages\u001b[0m\u001b[1;33m)\u001b[0m\u001b[1;33m:\u001b[0m\u001b[1;33m\u001b[0m\u001b[1;33m\u001b[0m\u001b[0m\n\u001b[1;32m----> 2\u001b[1;33m     \u001b[0mSearchImage\u001b[0m\u001b[1;33m(\u001b[0m\u001b[1;33m)\u001b[0m\u001b[1;33m.\u001b[0m\u001b[0mplot_similar_images\u001b[0m\u001b[1;33m(\u001b[0m\u001b[0mimage_path\u001b[0m \u001b[1;33m=\u001b[0m \u001b[0mimgToComp\u001b[0m\u001b[1;33m,\u001b[0m \u001b[0mnumber_of_images\u001b[0m \u001b[1;33m=\u001b[0m \u001b[0mnbImages\u001b[0m\u001b[1;33m)\u001b[0m\u001b[1;33m\u001b[0m\u001b[1;33m\u001b[0m\u001b[0m\n\u001b[0m\u001b[0;32m      3\u001b[0m \u001b[1;33m\u001b[0m\u001b[0m\n\u001b[0;32m      4\u001b[0m \u001b[0mplotSimilarImages\u001b[0m\u001b[1;33m(\u001b[0m\u001b[0mImagesData\u001b[0m\u001b[1;33m[\u001b[0m\u001b[1;36m3\u001b[0m\u001b[1;33m]\u001b[0m\u001b[1;33m,\u001b[0m \u001b[1;36m1\u001b[0m\u001b[1;33m)\u001b[0m\u001b[1;33m\u001b[0m\u001b[1;33m\u001b[0m\u001b[0m\n",
      "\u001b[1;31mTypeError\u001b[0m: plot_similar_images() got an unexpected keyword argument 'number_of_images'"
     ]
    }
   ],
   "source": [
    "def plotSimilarImages(imgToComp, nbImages):\n",
    "    SearchImage().plot_similar_images(image_path = imgToComp)\n",
    "    \n",
    "plotSimilarImages(ImagesData[3], 1)"
   ]
  },
  {
   "cell_type": "code",
   "execution_count": null,
   "id": "c1988cd2",
   "metadata": {},
   "outputs": [],
   "source": []
  }
 ],
 "metadata": {
  "kernelspec": {
   "display_name": "Python 3.9.12 ('base')",
   "language": "python",
   "name": "python3"
  },
  "language_info": {
   "codemirror_mode": {
    "name": "ipython",
    "version": 3
   },
   "file_extension": ".py",
   "mimetype": "text/x-python",
   "name": "python",
   "nbconvert_exporter": "python",
   "pygments_lexer": "ipython3",
   "version": "3.9.12"
  },
  "vscode": {
   "interpreter": {
    "hash": "9475284635d26067614a2f5c1768a08b1468dbbebaf0733e7f66e6cab11f2ea7"
   }
  }
 },
 "nbformat": 4,
 "nbformat_minor": 5
}
