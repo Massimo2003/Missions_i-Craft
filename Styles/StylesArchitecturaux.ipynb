{
 "cells": [
  {
   "cell_type": "markdown",
   "id": "7f03ed75",
   "metadata": {},
   "source": [
    "**IMPORTS**"
   ]
  },
  {
   "cell_type": "code",
   "execution_count": 4,
   "id": "96648c37",
   "metadata": {},
   "outputs": [],
   "source": [
    "import os\n",
    "import keras\n",
    "from keras.preprocessing import image\n",
    "from keras.applications.imagenet_utils import decode_predictions, preprocess_input\n",
    "from keras.models import Model\n",
    "from DeepImageSearch import LoadData"
   ]
  },
  {
   "cell_type": "markdown",
   "id": "50615fa8",
   "metadata": {},
   "source": [
    "**LOAD DATA**"
   ]
  },
  {
   "cell_type": "code",
   "execution_count": 5,
   "id": "d688b8a4",
   "metadata": {},
   "outputs": [],
   "source": [
    "ImagesData = LoadData().from_folder([\"DataStylesArchitecturaux\"])"
   ]
  },
  {
   "cell_type": "markdown",
   "id": "e91670eb",
   "metadata": {},
   "source": [
    "**VGG16 PREVIOUSLY TRAINED NETWORK**"
   ]
  },
  {
   "cell_type": "code",
   "execution_count": 6,
   "id": "44a9488f",
   "metadata": {},
   "outputs": [],
   "source": [
    "model = keras.applications.VGG16(weights='imagenet', include_top=True)"
   ]
  },
  {
   "cell_type": "code",
   "execution_count": 1,
   "id": "81cfe051",
   "metadata": {},
   "outputs": [
    {
     "name": "stdout",
     "output_type": "stream",
     "text": [
      "hello\n"
     ]
    }
   ],
   "source": [
    "print('hello')"
   ]
  },
  {
   "cell_type": "code",
   "execution_count": null,
   "id": "aa100ef7",
   "metadata": {},
   "outputs": [],
   "source": []
  }
 ],
 "metadata": {
  "kernelspec": {
   "display_name": "Python 3.9.12 ('base')",
   "language": "python",
   "name": "python3"
  },
  "language_info": {
   "codemirror_mode": {
    "name": "ipython",
    "version": 3
   },
   "file_extension": ".py",
   "mimetype": "text/x-python",
   "name": "python",
   "nbconvert_exporter": "python",
   "pygments_lexer": "ipython3",
   "version": "3.9.12"
  },
  "vscode": {
   "interpreter": {
    "hash": "9475284635d26067614a2f5c1768a08b1468dbbebaf0733e7f66e6cab11f2ea7"
   }
  }
 },
 "nbformat": 4,
 "nbformat_minor": 5
}
