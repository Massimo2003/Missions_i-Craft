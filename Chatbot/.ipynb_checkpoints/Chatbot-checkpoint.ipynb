{
 "cells": [
  {
   "cell_type": "markdown",
   "id": "fd5c03b5",
   "metadata": {},
   "source": [
    "**IMPORTS**"
   ]
  },
  {
   "cell_type": "code",
   "execution_count": 1,
   "id": "38477594",
   "metadata": {},
   "outputs": [],
   "source": [
    "import numpy as np\n",
    "import nltk\n",
    "from nltk.corpus import stopwords\n",
    "from nltk.stem.snowball import FrenchStemmer\n",
    "import string"
   ]
  },
  {
   "cell_type": "markdown",
   "id": "ca269d18",
   "metadata": {},
   "source": [
    "**OPEN DOCUMENT & TOKENIZATION**"
   ]
  },
  {
   "cell_type": "code",
   "execution_count": 2,
   "id": "2cb08d50",
   "metadata": {},
   "outputs": [],
   "source": [
    "f = open('PierreInfoText.txt', 'r', errors = 'ignore', encoding = '#utf-8')\n",
    "raw_doc = f.read()\n",
    "raw_doc = raw_doc.lower()\n",
    "# nltk.download('punkt')\n",
    "# nltk.download('wordnet')\n",
    "# nltk.download('omw-1.4')\n",
    "#nltk.download('stopwords')\n",
    "sent_tokens = nltk.sent_tokenize(raw_doc)\n",
    "word_tokens = nltk.word_tokenize(raw_doc)"
   ]
  },
  {
   "cell_type": "code",
   "execution_count": 3,
   "id": "e98f3e32",
   "metadata": {},
   "outputs": [
    {
     "data": {
      "text/plain": [
       "['le tailleur de pierre conçoit sur mesure des éléments architecturaux ou décoratifs en pierre de taille\\n  les métiers de la pierre regroupent plusieurs activités artisanales.',\n",
       " \"elles commencent avec l'extraction de la pierre et le métier de carrier.\",\n",
       " 'celui de tailleur de pierre et de marbrier de décoration et funéraire, incluant le métier de graveur.',\n",
       " \"sans oublier l'option artistique que représente la sculpture ornementale.\",\n",
       " \"des gestes traditionnels à l'utilisation de machines à la pointe du progrès, l'artisan tailleur de pierre cherche l'harmonie entre la tradition et les techniques modernes qui s'imposent aujourd'hui.\",\n",
       " 'on dénombre plus de 4 000 entreprises de transformation de la pierre dans notre pays où plusieurs centaines de pierres différentes sont extraites.',\n",
       " 'plus de 140 pierres calcaires et 130 roches marbrières, sans compter les granites, les grès, les laves, les gneiss et les ardoises.',\n",
       " 'le tailleur de pierre intervient dans la construction : encadrement de porte ou de fenêtre, voûte, balcon, dallage, escalier, balustrade.',\n",
       " 'dans la décoration intérieure et extérieure : revêtement de façade, mobilier urbain, corniche, cheminée, plan de salle de bains et de cuisine.',\n",
       " \"l'activité funéraire est un autre domaine dans lequel s'expriment les artisans de la pierre lors de la réalisation de monuments et parfois du service funéraire.\"]"
      ]
     },
     "execution_count": 3,
     "metadata": {},
     "output_type": "execute_result"
    }
   ],
   "source": [
    "sent_tokens[:10]"
   ]
  },
  {
   "cell_type": "code",
   "execution_count": 4,
   "id": "3d3d92b7",
   "metadata": {},
   "outputs": [
    {
     "data": {
      "text/plain": [
       "['le', 'tailleur']"
      ]
     },
     "execution_count": 4,
     "metadata": {},
     "output_type": "execute_result"
    }
   ],
   "source": [
    "word_tokens[:2]"
   ]
  },
  {
   "cell_type": "markdown",
   "id": "afd5c3dc",
   "metadata": {},
   "source": [
    "**TEXT PROCESSING**"
   ]
  },
  {
   "cell_type": "code",
   "execution_count": 5,
   "id": "330f9fa2",
   "metadata": {},
   "outputs": [],
   "source": [
    "lemmer = nltk.stem.WordNetLemmatizer()\n",
    "\n",
    "def LemTokens(tokens):\n",
    "    return [lemmer.lemmatize(token) for token in tokens]\n",
    "remove_punct_dict = dict((ord(punct), None) for punct in string.punctuation)\n",
    "def LemNormalize(text):\n",
    "    return LemTokens(nltk.word_tokenize(text.lower().translate(remove_punct_dict)))"
   ]
  },
  {
   "cell_type": "markdown",
   "id": "b2144c8b",
   "metadata": {},
   "source": [
    "**REPONSE GENERATION**"
   ]
  },
  {
   "cell_type": "code",
   "execution_count": 6,
   "id": "2197b861",
   "metadata": {},
   "outputs": [],
   "source": [
    "from sklearn.feature_extraction.text import TfidfVectorizer\n",
    "from sklearn.metrics.pairwise import cosine_similarity"
   ]
  },
  {
   "cell_type": "code",
   "execution_count": null,
   "id": "28361553",
   "metadata": {},
   "outputs": [],
   "source": [
    "def response(user_response):\n",
    "    robo1_response = ''\n",
    "\n",
    "    final_stopwords_list = stopwords.words('french')\n",
    "    TfidfVec = TfidfVectorizer(max_df=0.8,\n",
    "    stop_words=final_stopwords_list,\n",
    "    use_idf=True,\n",
    "    tokenizer=LemNormalize,\n",
    "    ngram_range=(1,3))\n",
    "    \n",
    "    #TfidfVec = TfidfVectorizer(tokenizer = LemNormalize, stop_words = 'english')\n",
    "    tfidf = TfidfVec.fit_transform(sent_tokens)\n",
    "    vals = cosine_similarity(tfidf[-1], tfidf)\n",
    "    idx = vals.argsort()[0][-2]\n",
    "    flat = vals.flatten()\n",
    "    flat.sort()\n",
    "    req_tfidf = flat[-2]\n",
    "    if(req_tfidf==0):\n",
    "        robo1_response =  robo1_response + \"Désolé, je ne comprends pas! Pourrais tu reformuler la phrase?\"\n",
    "        return robo1_response\n",
    "    else:\n",
    "        robo1_response = robo1_response + sent_tokens[idx]\n",
    "        return robo1_response"
   ]
  },
  {
   "cell_type": "code",
   "execution_count": 8,
   "id": "a8ae9071",
   "metadata": {},
   "outputs": [],
   "source": [
    "final_stopwords_list = stopwords.words('french')\n",
    "    TfidfVec = TfidfVectorizer(max_df=0.8,\n",
    "    max_features=2000,\n",
    "    min_df=5,\n",
    "    stop_words=final_stopwords_list,\n",
    "    use_idf=True,\n",
    "    tokenizer=LemNormalize,\n",
    "    ngram_range=(1,3))"
   ]
  },
  {
   "cell_type": "markdown",
   "id": "a280b772",
   "metadata": {},
   "source": [
    "**START AND END PROTOCOL**"
   ]
  },
  {
   "cell_type": "code",
   "execution_count": null,
   "id": "ebd49369",
   "metadata": {},
   "outputs": [
    {
     "name": "stdout",
     "output_type": "stream",
     "text": [
      "BOT: Bonjour, je suis votre assistant aujourd'hui. Comment puis-je vous aider ?\n",
      "Si vous avez un message d'erreur, tapez \"erreur\", si vous voulez en savoir plus sur le monde de la pierre, tapez \"info\".\n",
      "Tapez \"sortie\" à tout moment quand vouz souhaitez quitter la conversation\n",
      "info\n",
      "BOT: Je vous écoute! Veuillez me poser une question sur le monde du taille de la pierre.\n",
      "Le moins de mots vous inserez, le plus facile sera pour moi de vous donner une réponse pertinente :)\n",
      "Demande d'autorisation\n",
      "BOT l'ensemble est validé par les organismes d'état et intègre le dossier de demande d'autorisation d'exploitation.\n",
      "Qui est Martin Damay?\n",
      "BOT Désolé, je ne comprends pas! Pourrais tu reformuler la phrase?\n",
      "C'est quoi un cable de ciage?\n",
      "BOT c'est un aspect de surface décoratif.\n",
      "cable de ciage\n",
      "BOT Désolé, je ne comprends pas! Pourrais tu reformuler la phrase?\n"
     ]
    }
   ],
   "source": [
    "flag = True\n",
    "intro = input('BOT: Bonjour, je suis votre assistant aujourd\\'hui. Comment puis-je vous aider ?\\nSi vous avez un message d\\'erreur, tapez \"erreur\", si vous voulez en savoir plus sur le monde de la pierre, tapez \"info\".\\nTapez \"sortie\" à tout moment quand vouz souhaitez quitter la conversation\\n')\n",
    "\n",
    "while intro.lower() not in ['info', 'erreur', 'sortie']:\n",
    "    intro = str(input('BOT: Désolé, il semble y avoir un problème. Veuillez taper soit le mot \\\"info\\\" soit le mot \\\"erreur\\\"\\n'))\n",
    "\n",
    "if intro.lower() == 'info':\n",
    "    print('BOT: Je vous écoute! Veuillez me poser une question sur le monde du taille de la pierre.\\nLe moins de mots vous inserez, le plus facile sera pour moi de vous donner une réponse pertinente :)')\n",
    "    while(flag == True):\n",
    "        user_response = input()\n",
    "        user_response = user_response.lower()\n",
    "        if(user_response != 'sortie'):\n",
    "            if(user_response == 'merci' or user_response == 'merci beaucoup'):\n",
    "                flag = False\n",
    "                print('BOT: Aucun problème!')\n",
    "            else:\n",
    "                sent_tokens.append(user_response)\n",
    "                word_takens = word_tokens + nltk.word_tokenize(user_response)\n",
    "                final_words = list(set(word_tokens))\n",
    "                print(\"BOT: \", end = \"\")\n",
    "                print(response(user_response))\n",
    "                sent_tokens.remove(user_response)\n",
    "                print(\"BOT: Si je ne réponds pas correctement à votre question, essayez de la reformuler. Si vous avez une autre question n'hésitez pas à me la poser!\")\n",
    "        else:\n",
    "            flag = False\n",
    "            print(\"BOT: Au revoir! A bientôt\")\n",
    "            \n",
    "elif intro.lower() == 'erreur':\n",
    "    print ('BOT: partie erreur')\n",
    "\n",
    "else:\n",
    "    flag = False\n",
    "    print(\"BOT: Au revoir! A bientôt\")"
   ]
  },
  {
   "cell_type": "code",
   "execution_count": null,
   "id": "08adbc1e",
   "metadata": {},
   "outputs": [],
   "source": []
  },
  {
   "cell_type": "code",
   "execution_count": null,
   "id": "e2b1790f",
   "metadata": {},
   "outputs": [],
   "source": []
  }
 ],
 "metadata": {
  "kernelspec": {
   "display_name": "Python 3 (ipykernel)",
   "language": "python",
   "name": "python3"
  },
  "language_info": {
   "codemirror_mode": {
    "name": "ipython",
    "version": 3
   },
   "file_extension": ".py",
   "mimetype": "text/x-python",
   "name": "python",
   "nbconvert_exporter": "python",
   "pygments_lexer": "ipython3",
   "version": "3.9.12"
  },
  "vscode": {
   "interpreter": {
    "hash": "9475284635d26067614a2f5c1768a08b1468dbbebaf0733e7f66e6cab11f2ea7"
   }
  }
 },
 "nbformat": 4,
 "nbformat_minor": 5
}
