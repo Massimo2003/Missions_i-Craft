{
 "cells": [
  {
   "cell_type": "markdown",
   "metadata": {},
   "source": [
    "**IMPORTS**"
   ]
  },
  {
   "cell_type": "code",
   "execution_count": 202,
   "metadata": {},
   "outputs": [],
   "source": [
    "import numpy as np\n",
    "import nltk\n",
    "from nltk.corpus import stopwords\n",
    "from nltk.stem.snowball import FrenchStemmer\n",
    "import string\n",
    "import cv2\n",
    "import matplotlib.pyplot as plt\n",
    "import unidecode"
   ]
  },
  {
   "cell_type": "markdown",
   "metadata": {},
   "source": [
    "**OPEN TEXT DOCUMENT AND IMAGES DOCUMENT**"
   ]
  },
  {
   "cell_type": "code",
   "execution_count": 203,
   "metadata": {},
   "outputs": [],
   "source": [
    "def openDocument(path):\n",
    "    return open(path, 'r', errors = 'ignore', encoding = '#utf-8')"
   ]
  },
  {
   "cell_type": "code",
   "execution_count": 204,
   "metadata": {},
   "outputs": [],
   "source": [
    "f = openDocument('DataText//PierreInfoText.txt')\n",
    "fimg = openDocument('DataImages//ImagesTitres.txt')"
   ]
  },
  {
   "cell_type": "markdown",
   "metadata": {},
   "source": [
    "**TOKENIZATION**"
   ]
  },
  {
   "cell_type": "code",
   "execution_count": 205,
   "metadata": {},
   "outputs": [],
   "source": [
    "def tokenization(doc):\n",
    "    raw_doc = doc.read()\n",
    "    raw_doc = raw_doc.lower()\n",
    "    # nltk.download('punkt')\n",
    "    # nltk.download('wordnet')\n",
    "    # nltk.download('omw-1.4')\n",
    "    # nltk.download('stopwords')\n",
    "    return nltk.sent_tokenize(raw_doc), nltk.word_tokenize(raw_doc)"
   ]
  },
  {
   "cell_type": "code",
   "execution_count": 206,
   "metadata": {},
   "outputs": [],
   "source": [
    "sent_tokens, word_tokens = tokenization(f)\n",
    "sent_tokens_img, word_tokens_img = tokenization(fimg)"
   ]
  },
  {
   "cell_type": "code",
   "execution_count": 207,
   "metadata": {},
   "outputs": [
    {
     "data": {
      "text/plain": [
       "['le tailleur de pierre conçoit sur mesure des éléments architecturaux ou décoratifs en pierre de taille\\n  les métiers de la pierre regroupent plusieurs activités artisanales.',\n",
       " \"elles commencent avec l'extraction de la pierre et le métier de carrier.\",\n",
       " 'celui de tailleur de pierre et de marbrier de décoration et funéraire, incluant le métier de graveur.']"
      ]
     },
     "execution_count": 207,
     "metadata": {},
     "output_type": "execute_result"
    }
   ],
   "source": [
    "sent_tokens[:3]"
   ]
  },
  {
   "cell_type": "code",
   "execution_count": 208,
   "metadata": {},
   "outputs": [
    {
     "data": {
      "text/plain": [
       "['le', 'tailleur']"
      ]
     },
     "execution_count": 208,
     "metadata": {},
     "output_type": "execute_result"
    }
   ],
   "source": [
    "word_tokens[:2]"
   ]
  },
  {
   "cell_type": "code",
   "execution_count": 209,
   "metadata": {},
   "outputs": [
    {
     "data": {
      "text/plain": [
       "['carrières de france.', 'protection des voix respiratoires.']"
      ]
     },
     "execution_count": 209,
     "metadata": {},
     "output_type": "execute_result"
    }
   ],
   "source": [
    "sent_tokens_img[:]"
   ]
  },
  {
   "cell_type": "markdown",
   "metadata": {},
   "source": [
    "**TEXT PROCESSING**"
   ]
  },
  {
   "cell_type": "code",
   "execution_count": 210,
   "metadata": {},
   "outputs": [],
   "source": [
    "def remPunct():\n",
    "    return dict((ord(punct), None) for punct in string.punctuation)"
   ]
  },
  {
   "cell_type": "code",
   "execution_count": 211,
   "metadata": {},
   "outputs": [],
   "source": [
    "remove_punct_dict = remPunct()"
   ]
  },
  {
   "cell_type": "code",
   "execution_count": 212,
   "metadata": {},
   "outputs": [],
   "source": [
    "def LemTokens(tokens):\n",
    "    lemmer = nltk.stem.WordNetLemmatizer()\n",
    "    return [lemmer.lemmatize(token) for token in tokens]\n",
    "\n",
    "def LemNormalize(text):\n",
    "    return LemTokens(nltk.word_tokenize(text.lower().translate(remove_punct_dict)))"
   ]
  },
  {
   "cell_type": "markdown",
   "metadata": {},
   "source": [
    "**REPONSE GENERATION**"
   ]
  },
  {
   "cell_type": "code",
   "execution_count": 213,
   "metadata": {},
   "outputs": [],
   "source": [
    "from sklearn.feature_extraction.text import TfidfVectorizer\n",
    "from sklearn.metrics.pairwise import cosine_similarity"
   ]
  },
  {
   "cell_type": "code",
   "execution_count": 214,
   "metadata": {},
   "outputs": [],
   "source": [
    "def response(user_response, sentTokens):\n",
    "    robo1_response = ''\n",
    "\n",
    "    final_stopwords_list = stopwords.words('french')\n",
    "    TfidfVec = TfidfVectorizer(\n",
    "    stop_words=final_stopwords_list,\n",
    "    tokenizer=LemNormalize,\n",
    "    )\n",
    "    \n",
    "    #TfidfVec = TfidfVectorizer(tokenizer = LemNormalize, stop_words = 'english')\n",
    "    tfidf = TfidfVec.fit_transform(sentTokens)\n",
    "    vals = cosine_similarity(tfidf[-1], tfidf)\n",
    "    idx = vals.argsort()[0][-2]\n",
    "    flat = vals.flatten()\n",
    "    flat.sort()\n",
    "    req_tfidf = flat[-2]\n",
    "    if(req_tfidf==0):\n",
    "        robo1_response =  robo1_response + \"Désolé, je ne comprends pas! Pourrais tu reformuler la phrase?\"\n",
    "        return robo1_response\n",
    "    else:\n",
    "        robo1_response = robo1_response + sentTokens[idx]\n",
    "        \n",
    "        return robo1_response"
   ]
  },
  {
   "cell_type": "markdown",
   "metadata": {},
   "source": [
    "**NLP**"
   ]
  },
  {
   "cell_type": "code",
   "execution_count": 215,
   "metadata": {},
   "outputs": [],
   "source": [
    "def nlp(wordTokens, sentTokens, userResponse):\n",
    "    sentTokens.append(userResponse)\n",
    "    wordTokens = wordTokens + nltk.word_tokenize(userResponse)\n",
    "    final_words = list(set(wordTokens))\n",
    "    return response(userResponse, sentTokens)"
   ]
  },
  {
   "cell_type": "markdown",
   "metadata": {},
   "source": [
    "**IMAGES**"
   ]
  },
  {
   "cell_type": "markdown",
   "metadata": {},
   "source": [
    "*IMAGE TITLE*"
   ]
  },
  {
   "cell_type": "code",
   "execution_count": 216,
   "metadata": {},
   "outputs": [],
   "source": [
    "def textToImgTitle(responseUser):\n",
    "    TitleImage = unidecode.unidecode(responseUser).replace(\" \",\"\").replace(\".\",\"\")\n",
    "    return TitleImage"
   ]
  },
  {
   "cell_type": "markdown",
   "metadata": {},
   "source": [
    "*LOAD IMAGE*"
   ]
  },
  {
   "cell_type": "code",
   "execution_count": 217,
   "metadata": {},
   "outputs": [],
   "source": [
    "def loadImage(path):\n",
    "    img = cv2.imread(path)\n",
    "    return cv2.cvtColor(img, cv2.COLOR_BGR2RGB)"
   ]
  },
  {
   "cell_type": "markdown",
   "metadata": {},
   "source": [
    "*PLOT IMAGE*"
   ]
  },
  {
   "cell_type": "code",
   "execution_count": 218,
   "metadata": {},
   "outputs": [],
   "source": [
    "def plotImage(title, i):\n",
    "    plt.figure(title)\n",
    "    plt.imshow(i, cmap=\"gray\")\n",
    "    return plt.show()"
   ]
  },
  {
   "cell_type": "markdown",
   "metadata": {},
   "source": [
    "**START AND END PROTOCOL**"
   ]
  },
  {
   "cell_type": "markdown",
   "metadata": {},
   "source": [
    "*INTRODUCTION*"
   ]
  },
  {
   "cell_type": "code",
   "execution_count": 219,
   "metadata": {},
   "outputs": [],
   "source": [
    "def introduction(introSentence):\n",
    "    return input(introSentence)"
   ]
  },
  {
   "cell_type": "markdown",
   "metadata": {},
   "source": [
    "*INFORMATIONS*"
   ]
  },
  {
   "cell_type": "code",
   "execution_count": 224,
   "metadata": {},
   "outputs": [],
   "source": [
    "def informations(flagT, wordTokens):\n",
    "    print('BOT: Je vous écoute! Veuillez me poser une question sur le monde du taille de la pierre.\\nLe moins de mots vous inserez, le plus facile sera pour moi de vous donner une réponse pertinente :)')\n",
    "    while(flagT == True):\n",
    "        user_response = input()\n",
    "        user_response = user_response.lower()\n",
    "        if(user_response != 'sortie'):\n",
    "            if(user_response == 'merci' or user_response == 'merci beaucoup'):\n",
    "                flagT = False\n",
    "                print('BOT: Aucun problème!')\n",
    "            else:\n",
    "                nlp(word_tokens, sent_tokens, user_response)\n",
    "                print(\"BOT: \", end = \"\")\n",
    "                print(response(user_response, sent_tokens))                \n",
    "                sent_tokens.remove(user_response)\n",
    "                \n",
    "                try:\n",
    "                    nlp(word_tokens_img, sent_tokens_img, user_response)               \n",
    "                    titleImage = textToImgTitle(response(user_response, sent_tokens_img))\n",
    "                    imgColor = loadImage(\"DataImages//\"+titleImage+\".jpg\")\n",
    "                    plotImage(\"Color\", imgColor)\n",
    "                    #print(\"BOT: \", end = \"\")\n",
    "                    print(response(user_response, sent_tokens_img))\n",
    "                    \n",
    "                except:\n",
    "                    print('BOT: Aucune photo disponible')\n",
    "                sent_tokens_img.remove(user_response)\n",
    "                \n",
    "                print(\"BOT: Si je ne réponds pas correctement à votre question, essayez de la reformuler. Si vous avez une autre question n'hésitez pas à me la poser!\")\n",
    "\n",
    "        else:\n",
    "            flagT = False\n",
    "            print(\"BOT: Au revoir! A bientôt\")"
   ]
  },
  {
   "cell_type": "markdown",
   "metadata": {},
   "source": [
    "*ERREURS*"
   ]
  },
  {
   "cell_type": "code",
   "execution_count": 225,
   "metadata": {},
   "outputs": [],
   "source": [
    "def erreur():\n",
    "    print(\"hello\")"
   ]
  },
  {
   "cell_type": "markdown",
   "metadata": {},
   "source": [
    "*PROTOCOL*"
   ]
  },
  {
   "cell_type": "code",
   "execution_count": 226,
   "metadata": {},
   "outputs": [],
   "source": [
    "def protocol(wordTokens):\n",
    "    flag = True\n",
    "    intro = introduction('BOT: Bonjour, je suis votre assistant aujourd\\'hui. Comment puis-je vous aider ?\\nSi vous avez un message d\\'erreur, tapez \"erreur\", si vous voulez en savoir plus sur le monde de la pierre, tapez \"info\".\\nTapez \"sortie\" à tout moment quand vouz souhaitez quitter la conversation\\n')\n",
    "    \n",
    "    while intro.lower() not in ['info', 'erreur', 'sortie']:\n",
    "        intro = str(input('BOT: Désolé, il semble y avoir un problème. Veuillez taper soit le mot \\\"info\\\" soit le mot \\\"erreur\\\"\\n'))\n",
    "    \n",
    "    if intro.lower() == 'info':\n",
    "        informations(flag, wordTokens)\n",
    "    \n",
    "    if intro.lower() == 'erreur':\n",
    "        erreur()\n",
    "    \n",
    "    else:\n",
    "        print(\"BOT: Au revoir! A bientôt\")"
   ]
  },
  {
   "cell_type": "code",
   "execution_count": 227,
   "metadata": {},
   "outputs": [
    {
     "name": "stdout",
     "output_type": "stream",
     "text": [
      "BOT: Bonjour, je suis votre assistant aujourd'hui. Comment puis-je vous aider ?\n",
      "Si vous avez un message d'erreur, tapez \"erreur\", si vous voulez en savoir plus sur le monde de la pierre, tapez \"info\".\n",
      "Tapez \"sortie\" à tout moment quand vouz souhaitez quitter la conversation\n",
      "info\n",
      "BOT: Je vous écoute! Veuillez me poser une question sur le monde du taille de la pierre.\n",
      "Le moins de mots vous inserez, le plus facile sera pour moi de vous donner une réponse pertinente :)\n",
      "protection\n",
      "BOT: les outils et les machines utilisées rendent indispensables le respect strict des règles de sécurité et le port des protections individuelles : masque de protection poussières, bouchons auditifs, lunettes de protection, casque de chantiers et gants.\n"
     ]
    },
    {
     "data": {
      "image/png": "[encoded data removed]",
      "text/plain": [
       "<Figure size 432x288 with 1 Axes>"
      ]
     },
     "metadata": {
      "needs_background": "light"
     },
     "output_type": "display_data"
    },
    {
     "name": "stdout",
     "output_type": "stream",
     "text": [
      "protection des voix respiratoires.\n",
      "BOT: Si je ne réponds pas correctement à votre question, essayez de la reformuler. Si vous avez une autre question n'hésitez pas à me la poser!\n",
      "pierre\n",
      "BOT: sur le chantier\n",
      "  le tailleur de pierre procède à plusieurs mises en œuvre : nettoyage de pierre, dépose d'anciennes pierres, pose des pierres neuves, ravalement et rejointoiement des ouvrages posés.\n",
      "BOT: Aucune photo disponible\n",
      "BOT: Si je ne réponds pas correctement à votre question, essayez de la reformuler. Si vous avez une autre question n'hésitez pas à me la poser!\n",
      "merci\n",
      "BOT: Aucun problème!\n",
      "BOT: Au revoir! A bientôt\n"
     ]
    }
   ],
   "source": [
    "protocol(word_tokens)"
   ]
  },
  {
   "cell_type": "code",
   "execution_count": null,
   "metadata": {},
   "outputs": [],
   "source": []
  }
 ],
 "metadata": {
  "kernelspec": {
   "display_name": "Python 3 (ipykernel)",
   "language": "python",
   "name": "python3"
  },
  "language_info": {
   "codemirror_mode": {
    "name": "ipython",
    "version": 3
   },
   "file_extension": ".py",
   "mimetype": "text/x-python",
   "name": "python",
   "nbconvert_exporter": "python",
   "pygments_lexer": "ipython3",
   "version": "3.9.12"
  },
  "vscode": {
   "interpreter": {
    "hash": "9475284635d26067614a2f5c1768a08b1468dbbebaf0733e7f66e6cab11f2ea7"
   }
  }
 },
 "nbformat": 4,
 "nbformat_minor": 2
}
