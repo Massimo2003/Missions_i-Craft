{
 "cells": [
  {
   "cell_type": "markdown",
   "id": "6cd55281",
   "metadata": {},
   "source": [
    "**IMPORTS**"
   ]
  },
  {
   "cell_type": "code",
   "execution_count": 44,
   "id": "78c3ef70",
   "metadata": {},
   "outputs": [],
   "source": [
    "import spacy"
   ]
  },
  {
   "cell_type": "markdown",
   "id": "b737cba2",
   "metadata": {},
   "source": [
    "**NLP (TALN)**"
   ]
  },
  {
   "cell_type": "code",
   "execution_count": 45,
   "id": "b92478bf",
   "metadata": {},
   "outputs": [],
   "source": [
    "nlp = spacy.load('fr_core_news_sm')"
   ]
  },
  {
   "cell_type": "markdown",
   "id": "dcfb665b",
   "metadata": {},
   "source": [
    "**LECTURE DOCUMENT**"
   ]
  },
  {
   "cell_type": "code",
   "execution_count": 46,
   "id": "69a9462f",
   "metadata": {},
   "outputs": [],
   "source": [
    "f = open('PierreInfoText.txt', 'r', errors = 'ignore', encoding = '#utf-8')\n",
    "raw_doc = f.read()\n",
    "raw_doc = raw_doc.lower()"
   ]
  },
  {
   "cell_type": "markdown",
   "id": "b0883eb0",
   "metadata": {},
   "source": [
    "**TOKENISATION**"
   ]
  },
  {
   "cell_type": "code",
   "execution_count": 47,
   "id": "20d642ba",
   "metadata": {},
   "outputs": [],
   "source": [
    "docx = nlp(raw_doc)"
   ]
  },
  {
   "cell_type": "code",
   "execution_count": 55,
   "id": "14509bbb",
   "metadata": {},
   "outputs": [],
   "source": [
    "wordTokens = []\n",
    "for token in docx:\n",
    "    wordToken.append(token)"
   ]
  },
  {
   "cell_type": "markdown",
   "id": "63661e03",
   "metadata": {},
   "source": [
    "**TOKENISATION PAR PHRASES**"
   ]
  },
  {
   "cell_type": "code",
   "execution_count": 56,
   "id": "fa446e89",
   "metadata": {},
   "outputs": [],
   "source": [
    "sentTokens = []\n",
    "for sent in (docx.sents):\n",
    "    sentToken.append(sent)"
   ]
  },
  {
   "cell_type": "markdown",
   "id": "24812355",
   "metadata": {},
   "source": [
    "**REMOVING STOPWORDS**"
   ]
  },
  {
   "cell_type": "code",
   "execution_count": 65,
   "id": "2b389b72",
   "metadata": {},
   "outputs": [],
   "source": [
    "text = [token.text for token in docx if token.is_stop != True]\n",
    "stopwords = [token.text for token in docx if token.is_stop == True]"
   ]
  },
  {
   "cell_type": "markdown",
   "id": "01edcd99",
   "metadata": {},
   "source": [
    "**RESPONSE GENERATION**"
   ]
  },
  {
   "cell_type": "code",
   "execution_count": 51,
   "id": "1eeeb6b2",
   "metadata": {},
   "outputs": [],
   "source": [
    "from sklearn.feature_extraction.text import TfidfVectorizer\n",
    "from sklearn.metrics.pairwise import cosine_similarity"
   ]
  },
  {
   "cell_type": "code",
   "execution_count": 52,
   "id": "5093c4e1",
   "metadata": {},
   "outputs": [],
   "source": [
    "def response(user_response):\n",
    "    robo1_response = ''\n",
    "    \n",
    "    TfidfVec = TfidfVectorizer(max_df=0.8,\n",
    "    stop_words=stopwords,\n",
    "    use_idf=True,\n",
    "    tokenizer=LemNormalize,\n",
    "    ngram_range=(1,3))\n",
    "    \n",
    "    #TfidfVec = TfidfVectorizer(tokenizer = LemNormalize, stop_words = 'english')\n",
    "    tfidf = TfidfVec.fit_transform(sent_tokens)\n",
    "    vals = cosine_similarity(tfidf[1], tfidf)\n",
    "    idx = vals.argsort()[0][-2]\n",
    "    flat = vals.flatten()\n",
    "    flat.sort()\n",
    "    req_tfidf = flat[-2]\n",
    "    if(req_tfidf==0):\n",
    "        robo1_response =  robo1_response + \"Désolé, je ne comprends pas! Pourrais tu reformuler la phrase?\"\n",
    "        return robo1_response\n",
    "    else:\n",
    "        robo1_response = robo1_response + sent_tokens[idx] + \"\\nBOT: Si je ne réponds pas correctement à votre question, essayez de la reformuler. Si vous avez une autre question n'hésitez pas à me la poser!\"\n",
    "        return robo1_response"
   ]
  },
  {
   "cell_type": "markdown",
   "id": "cb77e5f9",
   "metadata": {},
   "source": [
    "**START AND PROTOCOL**"
   ]
  },
  {
   "cell_type": "code",
   "execution_count": 60,
   "id": "e6aa70af",
   "metadata": {},
   "outputs": [
    {
     "name": "stdout",
     "output_type": "stream",
     "text": [
      "BOT: Bonjour, je suis votre assistant aujourd'hui. Comment puis-je vous aider ?\n",
      "Si vous avez un message d'erreur, tapez \"erreur\", si vous voulez en savoir plus sur le monde de la pierre, tapez \"info\".\n",
      "Tapez \"sortie\" à tout moment quand vouz souhaitez quitter la conversation\n",
      "info\n",
      "BOT: Je vous écoute! Veuillez me poser une question sur le monde du taille de la pierre.\n",
      "Le moins de mots vous inserez, le plus facile sera pour moi de vous donner une réponse pertinente :)\n",
      "Taille de pierre\n",
      "BOT: "
     ]
    },
    {
     "ename": "AttributeError",
     "evalue": "'list' object has no attribute 'fit_transform'",
     "output_type": "error",
     "traceback": [
      "\u001b[1;31m---------------------------------------------------------------------------\u001b[0m",
      "\u001b[1;31mAttributeError\u001b[0m                            Traceback (most recent call last)",
      "\u001b[1;32m~\\AppData\\Local\\Temp\\ipykernel_8676\\1299084164.py\u001b[0m in \u001b[0;36m<cell line: 7>\u001b[1;34m()\u001b[0m\n\u001b[0;32m     25\u001b[0m                 \u001b[0mfinal_words\u001b[0m \u001b[1;33m=\u001b[0m \u001b[0mlist\u001b[0m\u001b[1;33m(\u001b[0m\u001b[0mset\u001b[0m\u001b[1;33m(\u001b[0m\u001b[0mwordTokens\u001b[0m\u001b[1;33m)\u001b[0m\u001b[1;33m)\u001b[0m\u001b[1;33m\u001b[0m\u001b[1;33m\u001b[0m\u001b[0m\n\u001b[0;32m     26\u001b[0m                 \u001b[0mprint\u001b[0m\u001b[1;33m(\u001b[0m\u001b[1;34m\"BOT: \"\u001b[0m\u001b[1;33m,\u001b[0m \u001b[0mend\u001b[0m \u001b[1;33m=\u001b[0m \u001b[1;34m\"\"\u001b[0m\u001b[1;33m)\u001b[0m\u001b[1;33m\u001b[0m\u001b[1;33m\u001b[0m\u001b[0m\n\u001b[1;32m---> 27\u001b[1;33m                 \u001b[0mprint\u001b[0m\u001b[1;33m(\u001b[0m\u001b[0mresponse\u001b[0m\u001b[1;33m(\u001b[0m\u001b[0muser_response_list\u001b[0m\u001b[1;33m)\u001b[0m\u001b[1;33m)\u001b[0m\u001b[1;33m\u001b[0m\u001b[1;33m\u001b[0m\u001b[0m\n\u001b[0m\u001b[0;32m     28\u001b[0m                 \u001b[0msentTokens\u001b[0m\u001b[1;33m.\u001b[0m\u001b[0mremove\u001b[0m\u001b[1;33m(\u001b[0m\u001b[0muser_response_list\u001b[0m\u001b[1;33m)\u001b[0m\u001b[1;33m\u001b[0m\u001b[1;33m\u001b[0m\u001b[0m\n\u001b[0;32m     29\u001b[0m         \u001b[1;32melse\u001b[0m\u001b[1;33m:\u001b[0m\u001b[1;33m\u001b[0m\u001b[1;33m\u001b[0m\u001b[0m\n",
      "\u001b[1;32m~\\AppData\\Local\\Temp\\ipykernel_8676\\108740191.py\u001b[0m in \u001b[0;36mresponse\u001b[1;34m(user_response)\u001b[0m\n\u001b[0;32m      2\u001b[0m     \u001b[0mrobo1_response\u001b[0m \u001b[1;33m=\u001b[0m \u001b[1;34m''\u001b[0m\u001b[1;33m\u001b[0m\u001b[1;33m\u001b[0m\u001b[0m\n\u001b[0;32m      3\u001b[0m \u001b[1;33m\u001b[0m\u001b[0m\n\u001b[1;32m----> 4\u001b[1;33m     \u001b[0mtfidf\u001b[0m \u001b[1;33m=\u001b[0m \u001b[0mtext\u001b[0m\u001b[1;33m.\u001b[0m\u001b[0mfit_transform\u001b[0m\u001b[1;33m(\u001b[0m\u001b[0msent_tokens\u001b[0m\u001b[1;33m)\u001b[0m\u001b[1;33m\u001b[0m\u001b[1;33m\u001b[0m\u001b[0m\n\u001b[0m\u001b[0;32m      5\u001b[0m     \u001b[0mvals\u001b[0m \u001b[1;33m=\u001b[0m \u001b[0mcosine_similarity\u001b[0m\u001b[1;33m(\u001b[0m\u001b[0mtfidf\u001b[0m\u001b[1;33m[\u001b[0m\u001b[1;36m1\u001b[0m\u001b[1;33m]\u001b[0m\u001b[1;33m,\u001b[0m \u001b[0mtfidf\u001b[0m\u001b[1;33m)\u001b[0m\u001b[1;33m\u001b[0m\u001b[1;33m\u001b[0m\u001b[0m\n\u001b[0;32m      6\u001b[0m     \u001b[0midx\u001b[0m \u001b[1;33m=\u001b[0m \u001b[0mvals\u001b[0m\u001b[1;33m.\u001b[0m\u001b[0margsort\u001b[0m\u001b[1;33m(\u001b[0m\u001b[1;33m)\u001b[0m\u001b[1;33m[\u001b[0m\u001b[1;36m0\u001b[0m\u001b[1;33m]\u001b[0m\u001b[1;33m[\u001b[0m\u001b[1;33m-\u001b[0m\u001b[1;36m2\u001b[0m\u001b[1;33m]\u001b[0m\u001b[1;33m\u001b[0m\u001b[1;33m\u001b[0m\u001b[0m\n",
      "\u001b[1;31mAttributeError\u001b[0m: 'list' object has no attribute 'fit_transform'"
     ]
    }
   ],
   "source": [
    "flag = True\n",
    "intro = input('BOT: Bonjour, je suis votre assistant aujourd\\'hui. Comment puis-je vous aider ?\\nSi vous avez un message d\\'erreur, tapez \"erreur\", si vous voulez en savoir plus sur le monde de la pierre, tapez \"info\".\\nTapez \"sortie\" à tout moment quand vouz souhaitez quitter la conversation\\n')\n",
    "\n",
    "while intro.lower() not in ['info', 'erreur', 'sortie']:\n",
    "    intro = str(input('BOT: Désolé, il semble y avoir un problème. Veuillez taper soit le mot \\\"info\\\" soit le mot \\\"erreur\\\"\\n'))\n",
    "\n",
    "if intro.lower() == 'info':\n",
    "    print('BOT: Je vous écoute! Veuillez me poser une question sur le monde du taille de la pierre.\\nLe moins de mots vous inserez, le plus facile sera pour moi de vous donner une réponse pertinente :)')\n",
    "    while(flag == True):\n",
    "        user_response = input()\n",
    "        user_response = user_response.lower()\n",
    "        if(user_response != 'sortie'):\n",
    "            if(user_response == 'merci' or user_response == 'merci beaucoup'):\n",
    "                flag = False\n",
    "                print('BOT: Aucun problème!')\n",
    "            else:\n",
    "                sentTokens.append(user_response)\n",
    "                \n",
    "                user_response_list = []\n",
    "                user_response = nlp(user_response)\n",
    "                for token in user_response:\n",
    "                    wordToken.append(token)\n",
    "                    \n",
    "                wordTokens = wordTokens + user_response_list\n",
    "                final_words = list(set(wordTokens))\n",
    "                print(\"BOT: \", end = \"\")\n",
    "                print(response(user_response_list))\n",
    "                sentTokens.remove(user_response_list)\n",
    "        else:\n",
    "            flag = False\n",
    "            print(\"BOT: Au revoir! A bientôt\")\n",
    "            \n",
    "elif intro.lower() == 'erreur':\n",
    "    print ('BOT: partie erreur')\n",
    "\n",
    "else:\n",
    "    flag = False\n",
    "    print(\"BOT: Au revoir! A bientôt\")"
   ]
  },
  {
   "cell_type": "code",
   "execution_count": null,
   "id": "8af9582a",
   "metadata": {},
   "outputs": [],
   "source": []
  }
 ],
 "metadata": {
  "kernelspec": {
   "display_name": "Python 3.9.12 ('base')",
   "language": "python",
   "name": "python3"
  },
  "language_info": {
   "codemirror_mode": {
    "name": "ipython",
    "version": 3
   },
   "file_extension": ".py",
   "mimetype": "text/x-python",
   "name": "python",
   "nbconvert_exporter": "python",
   "pygments_lexer": "ipython3",
   "version": "3.9.12"
  },
  "vscode": {
   "interpreter": {
    "hash": "9475284635d26067614a2f5c1768a08b1468dbbebaf0733e7f66e6cab11f2ea7"
   }
  }
 },
 "nbformat": 4,
 "nbformat_minor": 5
}
